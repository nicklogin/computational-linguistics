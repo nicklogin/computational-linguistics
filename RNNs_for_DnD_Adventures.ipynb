{
  "nbformat": 4,
  "nbformat_minor": 0,
  "metadata": {
    "colab": {
      "name": "RNNs for DnD Adventures.ipynb",
      "version": "0.3.2",
      "provenance": []
    },
    "kernelspec": {
      "name": "python3",
      "display_name": "Python 3"
    }
  },
  "cells": [
    {
      "metadata": {
        "id": "nHJ9jyRzgyj2",
        "colab_type": "code",
        "outputId": "95b186c8-e2d9-41c4-b007-22d53b9cac4e",
        "colab": {
          "base_uri": "https://localhost:8080/",
          "height": 125
        }
      },
      "cell_type": "code",
      "source": [
        "from google.colab import drive\n",
        "drive.mount('/content/drive')"
      ],
      "execution_count": 0,
      "outputs": [
        {
          "output_type": "stream",
          "text": [
            "Go to this URL in a browser: https://accounts.google.com/o/oauth2/auth?client_id=947318989803-6bn6qk8qdgf4n4g3pfee6491hc0brc4i.apps.googleusercontent.com&redirect_uri=urn%3Aietf%3Awg%3Aoauth%3A2.0%3Aoob&scope=email%20https%3A%2F%2Fwww.googleapis.com%2Fauth%2Fdocs.test%20https%3A%2F%2Fwww.googleapis.com%2Fauth%2Fdrive%20https%3A%2F%2Fwww.googleapis.com%2Fauth%2Fdrive.photos.readonly%20https%3A%2F%2Fwww.googleapis.com%2Fauth%2Fpeopleapi.readonly&response_type=code\n",
            "\n",
            "Enter your authorization code:\n",
            "··········\n",
            "Mounted at /content/drive\n"
          ],
          "name": "stdout"
        }
      ]
    },
    {
      "metadata": {
        "id": "vD_Jh9cThHSD",
        "colab_type": "code",
        "colab": {}
      },
      "cell_type": "code",
      "source": [
        "import os"
      ],
      "execution_count": 0,
      "outputs": []
    },
    {
      "metadata": {
        "id": "12FmquaShkCg",
        "colab_type": "code",
        "colab": {}
      },
      "cell_type": "code",
      "source": [
        "path_to_data = '/content/drive/My Drive/compling_project_data'"
      ],
      "execution_count": 0,
      "outputs": []
    },
    {
      "metadata": {
        "id": "HGKPgLVHice_",
        "colab_type": "code",
        "colab": {}
      },
      "cell_type": "code",
      "source": [
        "import numpy as np"
      ],
      "execution_count": 0,
      "outputs": []
    },
    {
      "metadata": {
        "id": "MbLhHnh6jVzo",
        "colab_type": "code",
        "colab": {}
      },
      "cell_type": "code",
      "source": [
        "from sklearn.externals import joblib"
      ],
      "execution_count": 0,
      "outputs": []
    },
    {
      "metadata": {
        "id": "OfeHJ_GHih6p",
        "colab_type": "code",
        "outputId": "ccdb83bf-0333-4449-833d-d04311f6d49d",
        "colab": {
          "base_uri": "https://localhost:8080/",
          "height": 72
        }
      },
      "cell_type": "code",
      "source": [
        "ohe = joblib.load(os.path.join(path_to_data, 'OneHotEncoder.pkl'))"
      ],
      "execution_count": 0,
      "outputs": [
        {
          "output_type": "stream",
          "text": [
            "/usr/local/lib/python3.6/dist-packages/sklearn/base.py:253: UserWarning: Trying to unpickle estimator OneHotEncoder from version 0.19.2 when using version 0.20.3. This might lead to breaking code or invalid results. Use at your own risk.\n",
            "  UserWarning)\n"
          ],
          "name": "stderr"
        }
      ]
    },
    {
      "metadata": {
        "id": "c1eQXKlyjigl",
        "colab_type": "code",
        "outputId": "1dfaa3ee-4bdd-4c36-f078-4326a7650cff",
        "colab": {
          "base_uri": "https://localhost:8080/",
          "height": 72
        }
      },
      "cell_type": "code",
      "source": [
        "le = joblib.load(os.path.join(path_to_data, 'LabelEncoder.pkl'))"
      ],
      "execution_count": 0,
      "outputs": [
        {
          "output_type": "stream",
          "text": [
            "/usr/local/lib/python3.6/dist-packages/sklearn/base.py:253: UserWarning: Trying to unpickle estimator LabelEncoder from version 0.19.2 when using version 0.20.3. This might lead to breaking code or invalid results. Use at your own risk.\n",
            "  UserWarning)\n"
          ],
          "name": "stderr"
        }
      ]
    },
    {
      "metadata": {
        "id": "GUg1G2BukmhM",
        "colab_type": "text"
      },
      "cell_type": "markdown",
      "source": [
        "X - 10-граммы символов (LabelEncoded)"
      ]
    },
    {
      "metadata": {
        "id": "Lsz5axq5jwGo",
        "colab_type": "code",
        "colab": {}
      },
      "cell_type": "code",
      "source": [
        "X = np.load(os.path.join(path_to_data, \"X.pkl\"))"
      ],
      "execution_count": 0,
      "outputs": []
    },
    {
      "metadata": {
        "id": "ItuwZ3fykrn_",
        "colab_type": "text"
      },
      "cell_type": "markdown",
      "source": [
        "y - следующие символы (OneHot-Encoded)"
      ]
    },
    {
      "metadata": {
        "id": "sI-OGCQpkDYO",
        "colab_type": "code",
        "colab": {}
      },
      "cell_type": "code",
      "source": [
        "y = np.load(os.path.join(path_to_data, \"y.pkl\"))"
      ],
      "execution_count": 0,
      "outputs": []
    },
    {
      "metadata": {
        "id": "CrYB3r1Yk0RA",
        "colab_type": "text"
      },
      "cell_type": "markdown",
      "source": [
        "готовимся обмазываться нейросетями:"
      ]
    },
    {
      "metadata": {
        "id": "R_WK9Tl7k_d9",
        "colab_type": "code",
        "outputId": "30d4a630-e9e6-43af-c8c6-cb6bf6756f29",
        "colab": {
          "base_uri": "https://localhost:8080/",
          "height": 34
        }
      },
      "cell_type": "code",
      "source": [
        "from keras.models import Sequential\n",
        "from keras.layers import Embedding, SimpleRNN, Dense, Dropout"
      ],
      "execution_count": 0,
      "outputs": [
        {
          "output_type": "stream",
          "text": [
            "Using TensorFlow backend.\n"
          ],
          "name": "stderr"
        }
      ]
    },
    {
      "metadata": {
        "id": "gGNC259yn3V2",
        "colab_type": "text"
      },
      "cell_type": "markdown",
      "source": [
        "Загружаем мэппинг энкодера скопипастев из консоли на локалхосте, раунд!"
      ]
    },
    {
      "metadata": {
        "id": "3xDxO376n8Uf",
        "colab_type": "code",
        "colab": {}
      },
      "cell_type": "code",
      "source": [
        "classes_mapping = ['', '\\t', '\\n', '\\r', '\\x1d', ' ', '!', '\"', '#', '$', '%', '&',\n",
        "       \"'\", '(', ')', '*', '+', ',', '-', '.', '/', '0', '1', '2', '3',\n",
        "       '4', '5', '6', '7', '8', '9', ':', ';', '<', '=', '>', '?', '@',\n",
        "       'A', 'B', 'C', 'D', 'E', 'F', 'G', 'H', 'I', 'J', 'K', 'L', 'M',\n",
        "       'N', 'O', 'P', 'Q', 'R', 'S', 'T', 'U', 'V', 'W', 'X', 'Y', 'Z',\n",
        "       '[', '\\\\', ']', '^', '_', '`', 'a', 'b', 'c', 'd', 'e', 'f', 'g',\n",
        "       'h', 'i', 'j', 'k', 'l', 'm', 'n', 'o', 'p', 'q', 'r', 's', 't',\n",
        "       'u', 'v', 'w', 'x', 'y', 'z', '~', '\\x81', '\\x85', '\\x8a', '\\x93',\n",
        "       '\\x94', '\\x99', '¡', '§', '©', 'ª', '«', '®', '°', '±', '´', 'µ',\n",
        "       '¼', '½', '¾', 'É', '×', 'ç', 'è', 'é', 'ï', 'û', 'ν', 'ο', 'τ',\n",
        "       'υ', 'ω', '–', '—', '‘', '’', '“', '”', '•', '…', 'Ω', '−',\n",
        "       '\\uf6d9', '�']"
      ],
      "execution_count": 0,
      "outputs": []
    },
    {
      "metadata": {
        "id": "7AU5hk80pPgx",
        "colab_type": "code",
        "colab": {}
      },
      "cell_type": "code",
      "source": [
        "dict_len = classes_mapping.size"
      ],
      "execution_count": 0,
      "outputs": []
    },
    {
      "metadata": {
        "id": "3GEQGYfaqW1I",
        "colab_type": "code",
        "outputId": "4469a6c4-42b2-444e-bf4e-233b6bd48e9e",
        "colab": {
          "base_uri": "https://localhost:8080/",
          "height": 34
        }
      },
      "cell_type": "code",
      "source": [
        "dict_len"
      ],
      "execution_count": 0,
      "outputs": [
        {
          "output_type": "execute_result",
          "data": {
            "text/plain": [
              "140"
            ]
          },
          "metadata": {
            "tags": []
          },
          "execution_count": 26
        }
      ]
    },
    {
      "metadata": {
        "id": "dM51mn_Ko1zW",
        "colab_type": "text"
      },
      "cell_type": "markdown",
      "source": [
        "Обычный RNN:"
      ]
    },
    {
      "metadata": {
        "id": "lu9acUe2sBuL",
        "colab_type": "code",
        "outputId": "adf418a1-f00d-4e94-bc15-b29163e3cb50",
        "colab": {
          "base_uri": "https://localhost:8080/",
          "height": 34
        }
      },
      "cell_type": "code",
      "source": [
        "X.shape, y.shape"
      ],
      "execution_count": 0,
      "outputs": [
        {
          "output_type": "execute_result",
          "data": {
            "text/plain": [
              "((1841751, 10), (1841751, 1, 140))"
            ]
          },
          "metadata": {
            "tags": []
          },
          "execution_count": 38
        }
      ]
    },
    {
      "metadata": {
        "id": "sNp3z7ypsXqn",
        "colab_type": "code",
        "colab": {}
      },
      "cell_type": "code",
      "source": [
        "y = np.array([i[0] for i in y])"
      ],
      "execution_count": 0,
      "outputs": []
    },
    {
      "metadata": {
        "id": "lBvqmrzNoPVx",
        "colab_type": "code",
        "outputId": "3e5bba18-2fc4-4bbd-e0fc-46960b0281ef",
        "colab": {
          "base_uri": "https://localhost:8080/",
          "height": 745
        }
      },
      "cell_type": "code",
      "source": [
        "model = Sequential()\n",
        "model.add(Embedding(dict_len, 10, input_length=10))\n",
        "model.add(SimpleRNN(100))\n",
        "model.add(Dropout(0.1))\n",
        "model.add(Dense(dict_len, activation='softmax'))\n",
        "model.compile(loss='categorical_crossentropy', optimizer='adam')\n",
        "model.fit(X, y, epochs=20, verbose=1)"
      ],
      "execution_count": 0,
      "outputs": [
        {
          "output_type": "stream",
          "text": [
            "Epoch 1/20\n",
            "1841751/1841751 [==============================] - 243s 132us/step - loss: 2.2154\n",
            "Epoch 2/20\n",
            "1841751/1841751 [==============================] - 241s 131us/step - loss: 2.0324\n",
            "Epoch 3/20\n",
            "1841751/1841751 [==============================] - 241s 131us/step - loss: 1.9971\n",
            "Epoch 4/20\n",
            "1841751/1841751 [==============================] - 242s 131us/step - loss: 1.9824\n",
            "Epoch 5/20\n",
            "1841751/1841751 [==============================] - 240s 130us/step - loss: 1.9753\n",
            "Epoch 6/20\n",
            "1841751/1841751 [==============================] - 241s 131us/step - loss: 1.9707\n",
            "Epoch 7/20\n",
            "1841751/1841751 [==============================] - 242s 131us/step - loss: 1.9673\n",
            "Epoch 8/20\n",
            "1841751/1841751 [==============================] - 245s 133us/step - loss: 1.9668\n",
            "Epoch 9/20\n",
            "1841751/1841751 [==============================] - 242s 132us/step - loss: 1.9675\n",
            "Epoch 10/20\n",
            "1841751/1841751 [==============================] - 242s 131us/step - loss: 1.9678\n",
            "Epoch 11/20\n",
            "1841751/1841751 [==============================] - 245s 133us/step - loss: 1.9700\n",
            "Epoch 12/20\n",
            "1841751/1841751 [==============================] - 242s 131us/step - loss: 1.9729\n",
            "Epoch 13/20\n",
            "1841751/1841751 [==============================] - 244s 133us/step - loss: 1.9754\n",
            "Epoch 14/20\n",
            "1841751/1841751 [==============================] - 246s 133us/step - loss: 1.9797\n",
            "Epoch 15/20\n",
            "1841751/1841751 [==============================] - 247s 134us/step - loss: 1.9798\n",
            "Epoch 16/20\n",
            "1841751/1841751 [==============================] - 244s 132us/step - loss: 1.9821\n",
            "Epoch 17/20\n",
            "1841751/1841751 [==============================] - 248s 135us/step - loss: 1.9876\n",
            "Epoch 18/20\n",
            "1841751/1841751 [==============================] - 260s 141us/step - loss: 1.9944\n",
            "Epoch 19/20\n",
            "1841751/1841751 [==============================] - 253s 138us/step - loss: 2.0014\n",
            "Epoch 20/20\n",
            "1841751/1841751 [==============================] - 249s 135us/step - loss: 2.0076\n"
          ],
          "name": "stdout"
        },
        {
          "output_type": "execute_result",
          "data": {
            "text/plain": [
              "<keras.callbacks.History at 0x7f836be0fc88>"
            ]
          },
          "metadata": {
            "tags": []
          },
          "execution_count": 45
        }
      ]
    },
    {
      "metadata": {
        "id": "C7N0Z_oMBka1",
        "colab_type": "text"
      },
      "cell_type": "markdown",
      "source": [
        "Посмотрим на качество обученной модели:"
      ]
    },
    {
      "metadata": {
        "id": "NVee7hdbBoRI",
        "colab_type": "code",
        "outputId": "dded4b66-298c-4625-da32-61da43101710",
        "colab": {
          "base_uri": "https://localhost:8080/",
          "height": 52
        }
      },
      "cell_type": "code",
      "source": [
        "model.evaluate(X, y)"
      ],
      "execution_count": 0,
      "outputs": [
        {
          "output_type": "stream",
          "text": [
            "1841751/1841751 [==============================] - 87s 47us/step\n"
          ],
          "name": "stdout"
        },
        {
          "output_type": "execute_result",
          "data": {
            "text/plain": [
              "1.9190844068383655"
            ]
          },
          "metadata": {
            "tags": []
          },
          "execution_count": 48
        }
      ]
    },
    {
      "metadata": {
        "id": "EWX59ZZ1DkyC",
        "colab_type": "text"
      },
      "cell_type": "markdown",
      "source": [
        "Категориальная кросс-энтропия равна 1.92 - "
      ]
    },
    {
      "metadata": {
        "id": "G3pDGEWUDwv-",
        "colab_type": "code",
        "colab": {}
      },
      "cell_type": "code",
      "source": [
        "classes_mapping_inv = {classes_mapping[i]:i for i in range(classes_mapping.size)}"
      ],
      "execution_count": 0,
      "outputs": []
    },
    {
      "metadata": {
        "id": "2VaTkkw6FBPb",
        "colab_type": "code",
        "colab": {}
      },
      "cell_type": "code",
      "source": [
        "active_features = np.array([i for i in range(140)])"
      ],
      "execution_count": 0,
      "outputs": []
    },
    {
      "metadata": {
        "id": "rY9s7M4QEUyb",
        "colab_type": "code",
        "colab": {}
      },
      "cell_type": "code",
      "source": [
        "def generate_text(text_length):\n",
        "  start_seq = np.array([[classes_mapping_inv['~'] for i in range(10)]])\n",
        "  outp = ''\n",
        "  for i in range(text_length):\n",
        "    #print(start_seq)\n",
        "    next_symb = model.predict(start_seq).dot(active_features).astype(int)[0]\n",
        "    start_seq[0][-1] = next_symb\n",
        "    outp += classes_mapping[next_symb.astype(int)]\n",
        "  return outp"
      ],
      "execution_count": 0,
      "outputs": []
    },
    {
      "metadata": {
        "id": "DM3wfdOzGIKx",
        "colab_type": "code",
        "outputId": "6fdc6ddf-bf9e-4d14-cd9a-a78556d708c4",
        "colab": {
          "base_uri": "https://localhost:8080/",
          "height": 34
        }
      },
      "cell_type": "code",
      "source": [
        "generate_text(100)"
      ],
      "execution_count": 0,
      "outputs": [
        {
          "output_type": "execute_result",
          "data": {
            "text/plain": [
              "'Fcjgkcjgkcjgkcjgkcjgkcjgkcjgkcjgkcjgkcjgkcjgkcjgkcjgkcjgkcjgkcjgkcjgkcjgkcjgkcjgkcjgkcjgkcjgkcjgkcjg'"
            ]
          },
          "metadata": {
            "tags": []
          },
          "execution_count": 83
        }
      ]
    },
    {
      "metadata": {
        "id": "Rnh3YMzrJ0jl",
        "colab_type": "code",
        "colab": {}
      },
      "cell_type": "code",
      "source": [
        "from keras.layers import LSTM"
      ],
      "execution_count": 0,
      "outputs": []
    },
    {
      "metadata": {
        "id": "wLvpjw3LIpxv",
        "colab_type": "code",
        "outputId": "8c6c09e8-cdbd-472d-9238-07a1af745277",
        "colab": {
          "base_uri": "https://localhost:8080/",
          "height": 158
        }
      },
      "cell_type": "code",
      "source": [
        "model2 = Sequential()\n",
        "model2.add(Embedding(dict_len, 140, input_length=10))\n",
        "model2.add(LSTM(100))\n",
        "model.add(Dropout(0.05))\n",
        "model.add(Dense(dict_len, activation='softmax'))\n",
        "model.compile(loss='categorical_crossentropy', optimizer='adam')\n",
        "model.fit(X, y, epochs=20, verbose=1)"
      ],
      "execution_count": 0,
      "outputs": [
        {
          "output_type": "stream",
          "text": [
            "Epoch 1/20\n",
            "1841751/1841751 [==============================] - 307s 167us/step - loss: 2.3599\n",
            "Epoch 2/20\n",
            "1841751/1841751 [==============================] - 305s 166us/step - loss: 2.1160\n",
            "Epoch 3/20\n",
            "1841751/1841751 [==============================] - 315s 171us/step - loss: 2.0627\n",
            "Epoch 4/20\n",
            "  53184/1841751 [..............................] - ETA: 5:02 - loss: 2.0444"
          ],
          "name": "stdout"
        }
      ]
    }
  ]
}